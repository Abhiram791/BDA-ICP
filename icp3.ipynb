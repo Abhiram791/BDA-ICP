{
  "nbformat": 4,
  "nbformat_minor": 0,
  "metadata": {
    "colab": {
      "provenance": [],
      "gpuType": "T4",
      "authorship_tag": "ABX9TyPOTdMbqYKVqArbiBcMCMqZ",
      "include_colab_link": true
    },
    "kernelspec": {
      "name": "python3",
      "display_name": "Python 3"
    },
    "language_info": {
      "name": "python"
    },
    "accelerator": "GPU"
  },
  "cells": [
    {
      "cell_type": "markdown",
      "metadata": {
        "id": "view-in-github",
        "colab_type": "text"
      },
      "source": [
        "<a href=\"https://colab.research.google.com/github/Abhiram791/BDA-ICP/blob/main/icp3.ipynb\" target=\"_parent\"><img src=\"https://colab.research.google.com/assets/colab-badge.svg\" alt=\"Open In Colab\"/></a>"
      ]
    },
    {
      "cell_type": "code",
      "execution_count": 1,
      "metadata": {
        "colab": {
          "base_uri": "https://localhost:8080/"
        },
        "id": "4iz855-EH3du",
        "outputId": "71292533-e62a-4cb5-a75f-d2fe06fcd45a"
      },
      "outputs": [
        {
          "output_type": "stream",
          "name": "stdout",
          "text": [
            "Original Array:\n",
            " [19 12 18 12 15  2  2  6 10 16 12 13  3  5  4]\n",
            "\n",
            "Reshaped Array (3x5):\n",
            " [[19 12 18 12 15]\n",
            " [ 2  2  6 10 16]\n",
            " [12 13  3  5  4]]\n",
            "\n",
            "Array Shape: (3, 5)\n",
            "\n",
            "Array after replacing max in each row by 0:\n",
            " [[ 0 12 18 12 15]\n",
            " [ 2  2  6 10  0]\n",
            " [12  0  3  5  4]]\n"
          ]
        }
      ],
      "source": [
        "import numpy as np\n",
        "\n",
        "abhi = np.random.randint(1, 21, size=15)\n",
        "print(\"Original Array:\\n\", abhi)\n",
        "\n",
        "abhi = abhi.reshape(3, 5)\n",
        "print(\"\\nReshaped Array (3x5):\\n\", abhi)\n",
        "\n",
        "print(\"\\nArray Shape:\", abhi.shape)\n",
        "\n",
        "for i in range(abhi.shape[0]):\n",
        "    ram = np.argmax(abhi[i])\n",
        "    abhi[i, ram] = 0\n",
        "\n",
        "print(\"\\nArray after replacing max in each row by 0:\\n\", abhi)"
      ]
    },
    {
      "cell_type": "code",
      "source": [
        "arr_b = np.array([[1, 2, 3],\n",
        "                  [4, 5, 6],\n",
        "                  [7, 8, 9],\n",
        "                  [10, 11, 12]], dtype=np.int32)\n",
        "\n",
        "print(\"\\nArray (4x3):\\n\", arr_b)\n",
        "print(\"\\nShape of the array:\", arr_b.shape)\n",
        "print(\"Type of the array:\", type(arr_b))\n",
        "print(\"Data type of the array elements:\", arr_b.dtype)"
      ],
      "metadata": {
        "colab": {
          "base_uri": "https://localhost:8080/"
        },
        "id": "3TyXBlXfIHUY",
        "outputId": "ad779963-5fa6-4031-eae3-76acdadb6ea7"
      },
      "execution_count": 2,
      "outputs": [
        {
          "output_type": "stream",
          "name": "stdout",
          "text": [
            "\n",
            "Array (4x3):\n",
            " [[ 1  2  3]\n",
            " [ 4  5  6]\n",
            " [ 7  8  9]\n",
            " [10 11 12]]\n",
            "\n",
            "Shape of the array: (4, 3)\n",
            "Type of the array: <class 'numpy.ndarray'>\n",
            "Data type of the array elements: int32\n"
          ]
        }
      ]
    },
    {
      "cell_type": "code",
      "source": [
        "arr_c = np.array([[3, -2],\n",
        "                  [1,  0]])\n",
        "\n",
        "eigenvalues, eigenvectors = np.linalg.eig(arr_c)\n",
        "\n",
        "print(\"\\nGiven Matrix:\\n\", arr_c)\n",
        "print(\"\\nEigenvalues:\\n\", eigenvalues)\n",
        "print(\"\\nRight Eigenvectors:\\n\", eigenvectors)"
      ],
      "metadata": {
        "colab": {
          "base_uri": "https://localhost:8080/"
        },
        "id": "ZuifNQhkILCG",
        "outputId": "484385e2-de58-423c-85fe-ba28d50f5034"
      },
      "execution_count": 3,
      "outputs": [
        {
          "output_type": "stream",
          "name": "stdout",
          "text": [
            "\n",
            "Given Matrix:\n",
            " [[ 3 -2]\n",
            " [ 1  0]]\n",
            "\n",
            "Eigenvalues:\n",
            " [2. 1.]\n",
            "\n",
            "Right Eigenvectors:\n",
            " [[0.89442719 0.70710678]\n",
            " [0.4472136  0.70710678]]\n"
          ]
        }
      ]
    },
    {
      "cell_type": "code",
      "source": [
        "arr_d = np.array([[0, 1, 2],\n",
        "                  [3, 4, 5]])\n",
        "\n",
        "diagonal_sum = np.trace(arr_d)\n",
        "\n",
        "print(\"\\nGiven Array:\\n\", arr_d)\n",
        "print(\"\\nSum of Diagonal Elements:\", diagonal_sum)"
      ],
      "metadata": {
        "colab": {
          "base_uri": "https://localhost:8080/"
        },
        "id": "Kqi9rj0HIOvu",
        "outputId": "701d44ff-bdae-47bb-83c1-91fb89d7eef2"
      },
      "execution_count": 4,
      "outputs": [
        {
          "output_type": "stream",
          "name": "stdout",
          "text": [
            "\n",
            "Given Array:\n",
            " [[0 1 2]\n",
            " [3 4 5]]\n",
            "\n",
            "Sum of Diagonal Elements: 4\n"
          ]
        }
      ]
    },
    {
      "cell_type": "code",
      "source": [
        "arr_e = np.array([[1, 2],\n",
        "                  [3, 4],\n",
        "                  [5, 6]])\n",
        "\n",
        "reshaped_e = arr_e.reshape(2, 3)\n",
        "\n",
        "print(\"\\nOriginal Array (3x2):\\n\", arr_e)\n",
        "print(\"\\nReshaped Array (2x3):\\n\", reshaped_e)"
      ],
      "metadata": {
        "colab": {
          "base_uri": "https://localhost:8080/"
        },
        "id": "TzxQyd6BISgG",
        "outputId": "f11556c5-39a3-4b17-b9b4-9b03018074b9"
      },
      "execution_count": 5,
      "outputs": [
        {
          "output_type": "stream",
          "name": "stdout",
          "text": [
            "\n",
            "Original Array (3x2):\n",
            " [[1 2]\n",
            " [3 4]\n",
            " [5 6]]\n",
            "\n",
            "Reshaped Array (2x3):\n",
            " [[1 2 3]\n",
            " [4 5 6]]\n"
          ]
        }
      ]
    }
  ]
}
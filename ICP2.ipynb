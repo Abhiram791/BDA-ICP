{
  "nbformat": 4,
  "nbformat_minor": 0,
  "metadata": {
    "colab": {
      "provenance": [],
      "authorship_tag": "ABX9TyNfGaV8ngl4D9AoBoBf+H60",
      "include_colab_link": true
    },
    "kernelspec": {
      "name": "python3",
      "display_name": "Python 3"
    },
    "language_info": {
      "name": "python"
    }
  },
  "cells": [
    {
      "cell_type": "markdown",
      "metadata": {
        "id": "view-in-github",
        "colab_type": "text"
      },
      "source": [
        "<a href=\"https://colab.research.google.com/github/Abhiram791/BDA-ICP/blob/main/ICP2.ipynb\" target=\"_parent\"><img src=\"https://colab.research.google.com/assets/colab-badge.svg\" alt=\"Open In Colab\"/></a>"
      ]
    },
    {
      "cell_type": "markdown",
      "source": [
        "a)Explain the difference between Counter.count and self._count.\n",
        "\n",
        "- `Counter.count`: Class variable, shared by all instances.\n",
        "- `self._count`: Instance variable, unique to each object.\n",
        "\n",
        "b.What is the output of a.get_counts() and b.get_counts()?\n",
        "- `a.get_counts()` → `Instance count: 2, Class count: 3`\n",
        "- `b.get_counts()` → `Instance count: 1, Class count: 3`\n",
        "\n",
        "\n",
        "c. How does the increment method affect both the class and instance variables?\n",
        "The `increment` method increases both:\n",
        "- The instance variable (`self._count`) for that object.\n",
        "- The class variable (`Counter.count`) for all instances."
      ],
      "metadata": {
        "id": "qjTo-EZUugZN"
      }
    },
    {
      "cell_type": "code",
      "source": [
        "def sum_off(*abhi):\n",
        "    return sum(abhi)\n",
        "\n",
        "print(\"Sum of 1, 2, 3 is:\", sum_off(1, 2, 3))\n",
        "print(\"Sum of 4, 5, 6, 7 is:\", sum_off(4, 5, 6, 7))"
      ],
      "metadata": {
        "colab": {
          "base_uri": "https://localhost:8080/"
        },
        "id": "6h9-2YO2vUhq",
        "outputId": "3a15585f-2c60-4bbe-d658-daa37ae428be"
      },
      "execution_count": 4,
      "outputs": [
        {
          "output_type": "stream",
          "name": "stdout",
          "text": [
            "Sum of 1, 2, 3 is: 6\n",
            "Sum of 4, 5, 6, 7 is: 22\n"
          ]
        }
      ]
    },
    {
      "cell_type": "code",
      "source": [
        "def word(words):\n",
        "    words.sort()\n",
        "    return words[0]\n",
        "\n",
        "students = ['Mary', 'Zelda', 'Jimmy', 'Jack', 'Bartholomew', 'Gertrude']\n",
        "print(word(students))"
      ],
      "metadata": {
        "colab": {
          "base_uri": "https://localhost:8080/"
        },
        "id": "xX_UybApwjnH",
        "outputId": "d61935d8-1c12-4a48-b968-22957ab22182"
      },
      "execution_count": 10,
      "outputs": [
        {
          "output_type": "stream",
          "name": "stdout",
          "text": [
            "Bartholomew\n"
          ]
        }
      ]
    },
    {
      "cell_type": "code",
      "source": [
        "class Abhiram:\n",
        "    abhiram_count = 0\n",
        "\n",
        "    def __init__(self, first_name, last_name, salary, department):\n",
        "        self.first_name = first_name\n",
        "        self.last_name = last_name\n",
        "        self.salary = salary\n",
        "        self.department = department\n",
        "        Abhiram.abhiram_count += 1\n",
        "\n",
        "\n",
        "    def average_salary(abhiram_list):\n",
        "        total_salary = sum(a.salary for a in abhiram_list)\n",
        "        return total_salary / len(abhiram_list)\n",
        "\n",
        "class FulltimeAbhiram(Abhiram):\n",
        "    def __init__(self, first_name, last_name, salary, department):\n",
        "        super().__init__(first_name, last_name, salary, department)\n",
        "\n",
        "abhiram1 = Abhiram(\"Harshitha\", \"Reddy\", 55000, \"Data Analytics\")\n",
        "abhiram2 = FulltimeAbhiram(\"Teja\", \"Jampani\", 65000, \"Software Engineering\")\n",
        "abhiram3 = FulltimeAbhiram(\"Priya\", \"Kumar\", 60000, \"Marketing\")\n",
        "\n",
        "abhiram_list = [abhiram1, abhiram2, abhiram3]\n",
        "\n",
        "print(f\"Total Abhirams: {Abhiram.abhiram_count}\")\n",
        "print(f\"Average Salary: ${Abhiram.average_salary(abhiram_list)}\")\n",
        "\n",
        "for a in abhiram_list:\n",
        "    print(f\"{a.first_name} {a.last_name} works in {a.department} with salary ${a.salary}\")"
      ],
      "metadata": {
        "colab": {
          "base_uri": "https://localhost:8080/"
        },
        "id": "bAYzd0IGymM1",
        "outputId": "777f4f48-7932-444a-da0f-afa261914247"
      },
      "execution_count": 11,
      "outputs": [
        {
          "output_type": "stream",
          "name": "stdout",
          "text": [
            "Total Abhirams: 3\n",
            "Average Salary: $60000.0\n",
            "Harshitha Reddy works in Data Analytics with salary $55000\n",
            "Teja Jampani works in Software Engineering with salary $65000\n",
            "Priya Kumar works in Marketing with salary $60000\n"
          ]
        }
      ]
    }
  ]
}
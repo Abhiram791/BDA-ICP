{
  "nbformat": 4,
  "nbformat_minor": 0,
  "metadata": {
    "colab": {
      "provenance": [],
      "authorship_tag": "ABX9TyPvPiBVL6W5A0+gP170mzrn",
      "include_colab_link": true
    },
    "kernelspec": {
      "name": "python3",
      "display_name": "Python 3"
    },
    "language_info": {
      "name": "python"
    }
  },
  "cells": [
    {
      "cell_type": "markdown",
      "metadata": {
        "id": "view-in-github",
        "colab_type": "text"
      },
      "source": [
        "<a href=\"https://colab.research.google.com/github/Abhiram791/BDA-ICP/blob/main/Assignment1.ipynb\" target=\"_parent\"><img src=\"https://colab.research.google.com/assets/colab-badge.svg\" alt=\"Open In Colab\"/></a>"
      ]
    },
    {
      "cell_type": "code",
      "source": [
        "A = list(\"Abhiram\")\n",
        "\n",
        "print(\"Original list:\",A)\n",
        "\n",
        "\n",
        "del A[1]\n",
        "del A[2]\n",
        "\n",
        "print(\"After deletion:\",A)\n",
        "\n",
        "\n",
        "A.reverse()\n",
        "\n",
        "\n",
        "result_str = ''.join(A)\n",
        "\n",
        "\n",
        "print(\"Reversed string after deletion: \",result_str)"
      ],
      "metadata": {
        "colab": {
          "base_uri": "https://localhost:8080/"
        },
        "id": "N8LAyxEeiCTs",
        "outputId": "8fc4a906-ba07-4bde-cf20-9a40a4b3fe75"
      },
      "execution_count": 8,
      "outputs": [
        {
          "output_type": "stream",
          "name": "stdout",
          "text": [
            "Original list: ['A', 'b', 'h', 'i', 'r', 'a', 'm']\n",
            "After deletion: ['A', 'h', 'r', 'a', 'm']\n",
            "Reversed string after deletion:  marhA\n"
          ]
        }
      ]
    },
    {
      "cell_type": "code",
      "source": [
        "a = float(input(\"Enter first number: \"))\n",
        "b = float(input(\"Enter second number: \"))\n",
        "\n",
        "\n",
        "addition = a + b\n",
        "subtraction = a - b\n",
        "multiplication = a * b\n",
        "\n",
        "\n",
        "if b!= 0:\n",
        "    division = a // b\n",
        "else:\n",
        "    division = \"undefined (cannot divide by zero)\"\n",
        "\n",
        "\n",
        "print(f\"Addition: {addition}\")\n",
        "print(f\"Subtraction: {subtraction}\")\n",
        "print(f\"Multiplication: {multiplication}\")\n",
        "print(f\"Division: {division}\")"
      ],
      "metadata": {
        "colab": {
          "base_uri": "https://localhost:8080/"
        },
        "id": "yUHmpD4PiZcc",
        "outputId": "ae031810-f4cb-4d16-ebb1-8863b58d8c2f"
      },
      "execution_count": 13,
      "outputs": [
        {
          "output_type": "stream",
          "name": "stdout",
          "text": [
            "Enter first number: 234\n",
            "Enter second number: 234\n",
            "Addition: 468.0\n",
            "Subtraction: 0.0\n",
            "Multiplication: 54756.0\n",
            "Division: 1.0\n"
          ]
        }
      ]
    },
    {
      "cell_type": "code",
      "source": [
        "sentence = input(\"Enter a sentence: \")\n",
        "\n",
        "\n",
        "updated_sentence = sentence.replace('python', 'pythons')\n",
        "\n",
        "\n",
        "print(\"Updated sentence:\", updated_sentence)"
      ],
      "metadata": {
        "id": "EQErlj53iz1K",
        "colab": {
          "base_uri": "https://localhost:8080/"
        },
        "outputId": "a4410602-16a5-45fd-f7fd-974ad1bb463e"
      },
      "execution_count": 11,
      "outputs": [
        {
          "output_type": "stream",
          "name": "stdout",
          "text": [
            "Enter a sentence: i love python \n",
            "Updated sentence: i love pythons \n"
          ]
        }
      ]
    },
    {
      "cell_type": "code",
      "source": [
        "score = float(input(\"Enter your class score: \"))\n",
        "\n",
        "if score >= 90:\n",
        "    grade = 'A'\n",
        "elif score >= 80:\n",
        "    grade = 'B'\n",
        "elif score >= 70:\n",
        "    grade = 'C'\n",
        "elif score >= 60:\n",
        "    grade = 'D'\n",
        "else:\n",
        "    grade = 'F'\n",
        "\n",
        "\n",
        "print(f\"Your grade is: {grade}\")"
      ],
      "metadata": {
        "colab": {
          "base_uri": "https://localhost:8080/"
        },
        "id": "myDODD1i6Mnh",
        "outputId": "410a1354-024b-4599-d6bd-1cc7b9ae3eb0"
      },
      "execution_count": 4,
      "outputs": [
        {
          "output_type": "stream",
          "name": "stdout",
          "text": [
            "Enter your class score: 100\n",
            "Your grade is: A\n"
          ]
        }
      ]
    },
    {
      "cell_type": "code",
      "source": [
        "x = [23, 'Python', 23.98]\n",
        "\n",
        "\n",
        "types_list = [type(item) for item in x]\n",
        "\n",
        "\n",
        "print(x)\n",
        "print(types_list)"
      ],
      "metadata": {
        "colab": {
          "base_uri": "https://localhost:8080/"
        },
        "id": "y0-DdVN36osD",
        "outputId": "60a5a81e-7b8f-4b02-9e0e-4cb7c57dc968"
      },
      "execution_count": 5,
      "outputs": [
        {
          "output_type": "stream",
          "name": "stdout",
          "text": [
            "[23, 'Python', 23.98]\n",
            "[<class 'int'>, <class 'str'>, <class 'float'>]\n"
          ]
        }
      ]
    },
    {
      "cell_type": "code",
      "source": [
        "IT_companies = {'Facebook', 'Google', 'Microsoft', 'Apple', 'IBM', 'Oracle', 'Amazon'}\n",
        "A = {19, 22, 24, 20, 25, 26}\n",
        "B = {19, 22, 20, 25, 26, 24, 28, 27}\n",
        "age = [22, 19, 24, 25, 26, 24, 25, 24]\n",
        "\n",
        "print(len(IT_companies))\n",
        "\n",
        "IT_companies.add('Twitter')\n",
        "print(IT_companies)\n",
        "\n",
        "IT_companies.update(['LinkedIn', 'Snapchat'])\n",
        "print(IT_companies)\n",
        "\n",
        "IT_companies.remove('IBM')\n",
        "print(IT_companies)\n",
        "\n",
        "IT_companies.discard('XYZ')\n",
        "#Remove method will raise keyerror if given is not present in set while discard wont raise error\n",
        "\n",
        "print(A.union(B))\n",
        "print(A.intersection(B))\n",
        "print(A.issubset(B))\n",
        "print(A.isdisjoint(B))\n",
        "print(A.union(B))\n",
        "print(B.union(A))\n",
        "print(A.symmetric_difference(B))\n",
        "\n",
        "del A\n",
        "del B\n",
        "\n",
        "age_set = set(age)\n",
        "print(len(age))\n",
        "print(len(age_set))\n"
      ],
      "metadata": {
        "colab": {
          "base_uri": "https://localhost:8080/"
        },
        "id": "4A9IWtcD8gih",
        "outputId": "2ced1dae-927f-429f-d306-3e6cac447a18"
      },
      "execution_count": 10,
      "outputs": [
        {
          "output_type": "stream",
          "name": "stdout",
          "text": [
            "7\n",
            "{'Amazon', 'Google', 'Twitter', 'Oracle', 'Facebook', 'Microsoft', 'Apple', 'IBM'}\n",
            "{'Amazon', 'Apple', 'Snapchat', 'Oracle', 'Facebook', 'LinkedIn', 'Microsoft', 'Google', 'IBM', 'Twitter'}\n",
            "{'Amazon', 'Apple', 'Snapchat', 'Oracle', 'Facebook', 'LinkedIn', 'Microsoft', 'Google', 'Twitter'}\n",
            "{19, 20, 22, 24, 25, 26, 27, 28}\n",
            "{19, 20, 22, 24, 25, 26}\n",
            "True\n",
            "False\n",
            "{19, 20, 22, 24, 25, 26, 27, 28}\n",
            "{19, 20, 22, 24, 25, 26, 27, 28}\n",
            "{27, 28}\n",
            "8\n",
            "5\n"
          ]
        }
      ]
    }
  ]
}